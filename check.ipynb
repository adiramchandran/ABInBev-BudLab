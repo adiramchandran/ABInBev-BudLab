{
 "cells": [
  {
   "cell_type": "code",
   "execution_count": 21,
   "metadata": {},
   "outputs": [
    {
     "name": "stdout",
     "output_type": "stream",
     "text": [
      "temperature: 22.65\n",
      "clouds: 1\n",
      "rain: 0\n",
      "pressure: 1016\n",
      "224.2144775390625\n",
      "Champaign\n"
     ]
    }
   ],
   "source": [
    "import pyowm\n",
    "import requests\n",
    "import pprint\n",
    "import json\n",
    "\n",
    "\n",
    "\n",
    "API_KEY = '2b54876f31212bf7fb13d0d0b62b911d'\n",
    "COORDS = (40.1164, -88.2434)\n",
    "#get an owm instance using the key from home.openweathermap.org\n",
    "owm = pyowm.OWM(API_KEY)\n",
    "\n",
    "#get current weather\n",
    "observation = owm.weather_at_coords(COORDS[0], COORDS[1])\n",
    "weather = observation.get_weather()\n",
    "temp = weather.get_temperature('celsius')\n",
    "clouds = weather.get_clouds()\n",
    "rain = weather.get_rain()\n",
    "alt = weather.get_pressure()['sea_level']\n",
    "press = weather.get_pressure()['press']\n",
    "elevation = get_elevation(COORDS)\n",
    "\n",
    "if len(rain)==0:\n",
    "    rain = 0\n",
    "else:\n",
    "    rain = rain['3h']\n",
    "\n",
    "print(\"temperature: \"+str(temp['temp'])+'\\n' \\\n",
    "      \"clouds: \"+str(clouds)+'\\n' \\\n",
    "      \"rain: \"+str(rain)+\"\\n\" \\\n",
    "      \"pressure: \"+str(press))\n",
    "\n",
    "pprint.pprint(elevation)\n",
    "loc = observation.get_location()\n",
    "print(loc.get_name())"
   ]
  },
  {
   "cell_type": "code",
   "execution_count": null,
   "metadata": {
    "collapsed": true
   },
   "outputs": [],
   "source": []
  }
 ],
 "metadata": {
  "kernelspec": {
   "display_name": "Python 3",
   "language": "python",
   "name": "python3"
  },
  "language_info": {
   "codemirror_mode": {
    "name": "ipython",
    "version": 3
   },
   "file_extension": ".py",
   "mimetype": "text/x-python",
   "name": "python",
   "nbconvert_exporter": "python",
   "pygments_lexer": "ipython3",
   "version": "3.6.1"
  }
 },
 "nbformat": 4,
 "nbformat_minor": 2
}
