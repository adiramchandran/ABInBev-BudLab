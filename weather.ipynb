{
 "cells": [
  {
   "cell_type": "markdown",
   "metadata": {},
   "source": [
    "# Python Open Weather Map"
   ]
  },
  {
   "cell_type": "code",
   "execution_count": 3,
   "metadata": {
    "collapsed": true
   },
   "outputs": [],
   "source": [
    "import pyowm\n",
    "\n",
    "#you may read docs here- http://pyowm.readthedocs.io/en/latest/index.html"
   ]
  },
  {
   "cell_type": "code",
   "execution_count": 8,
   "metadata": {
    "collapsed": true
   },
   "outputs": [],
   "source": [
    "#api key from owm website\n",
    "API_KEY = '2b54876f31212bf7fb13d0d0b62b911d'"
   ]
  },
  {
   "cell_type": "code",
   "execution_count": 7,
   "metadata": {
    "collapsed": true
   },
   "outputs": [],
   "source": [
    "def createOWM(key):\n",
    "    '''\n",
    "    This method will create and return an owm instance\n",
    "    @param: key (API key from owm website); string\n",
    "    @return: owm instance\n",
    "    '''\n",
    "    owm = pyowm.OWM(key)\n",
    "    return owm"
   ]
  },
  {
   "cell_type": "code",
   "execution_count": 10,
   "metadata": {
    "collapsed": true
   },
   "outputs": [],
   "source": [
    "def getObservation(location, owm):\n",
    "    '''\n",
    "    Get weather conditions for given coordinates\n",
    "    @param: location in one of the following formats:\n",
    "            \n",
    "            geographic coordinates; tuple of type - (latitude, longitude) **preferable**\n",
    "        or\n",
    "            name of city; string; can be city id or city,country; e.g. London or London,uk\n",
    "        or\n",
    "            city id; int; from my observation it is a 6 or 7 digit number\n",
    "            (a list of city ids is here - http://bulk.openweathermap.org/sample/)\n",
    "        or\n",
    "            zipcode; int; 5-digit zipcode (for US cities only)\n",
    "            we can have zipcodes or postal cides for different countries too, but let's\n",
    "            stick with US only for now\n",
    "    @param: owm type object\n",
    "    @return: observation object\n",
    "             return object contains a location object which can be obtained by:\n",
    "                 obs.get_location()\n",
    "             location object has following methods:\n",
    "                 get_lat()\n",
    "                 get_lon()\n",
    "                 get_name()\n",
    "                 get_id()\n",
    "    '''\n",
    "    #TODO: assertIsInstance for owm\n",
    "    \n",
    "    #if a tuple is passed then it must have geographic coordinates\n",
    "    if isinstance(location, tuple):\n",
    "        if len(location)==2 \\\n",
    "            and (isinstance(location[0], float) or isinstance(location[0], int)) \\\n",
    "            and (isintance(location[1], float) or isinstance(location[1], int)):\n",
    "            obs = owm.weather_at_coords(coords[0], coords[1])\n",
    "        else:\n",
    "            msg = \"The tuple should be of type (latitude, longitude), e.g., (19.23, -88.56)\"\n",
    "            raise RuntimeError(msg)\n",
    "            \n",
    "    #if a string is passed it must have the name of the city and optionally a country code\n",
    "    elif isinstance(location, string):\n",
    "        obs = owm.weather_at_place(location)\n",
    "        \n",
    "    #if an int is passed it can have a zipcode(5-digit) or city ID(6 or more digits)\n",
    "    elif isinstance(location, int):\n",
    "        if len(str(location))==5:\n",
    "            obs = owm.weather_at_zip_code(str(location), \"US\")\n",
    "        elif len(str(location)) > 5:\n",
    "            obs = owm.weather_at_id(location)\n",
    "        else:\n",
    "            msg = \"Integer can be either zipcode or city id. Your integer length is of unknown format\"\n",
    "            raise RuntimeError(msg)\n",
    "    else:\n",
    "        msg = \"Your input doesn't match any format. Please follow the following formats: \\n\"\n",
    "        msg += \"Tuple with geographical coordinates (latitude(int/float), longitude(int/float))\\n\"\n",
    "        msg += \"String with city name and may optionally contain country code. e.g. London or London,UK\\n\"\n",
    "        msg += \"Int which may represent a zipcode (5-digits) or city id(6-digits or more)\"\n",
    "        raise RuntimeError(msg)\n",
    "    return obs"
   ]
  },
  {
   "cell_type": "code",
   "execution_count": 11,
   "metadata": {
    "collapsed": true
   },
   "outputs": [],
   "source": [
    "def getWeather(observation):\n",
    "    \"\"\"\n",
    "    Get weather conditions and measurements from an observation\n",
    "    @param: observation type object\n",
    "    @return: weather type object\n",
    "             this object has the following methods:\n",
    "             w.get_reference_time()                             # get time of observation in GMT UNIXtime\n",
    "             w.get_reference_time(timeformat='iso')             # ...or in ISO8601\n",
    "             w.get_reference_time(timeformat='date')            # ...or as a datetime.datetime object\n",
    "             w.get_clouds()                                     # Get cloud coverage (%age)\n",
    "             w.get_rain()                                       # Get rain volume\n",
    "                {'3h': 0}\n",
    "\n",
    "             w.get_snow()                                       # Get snow volume\n",
    "                {}\n",
    "\n",
    "             w.get_wind()                                       # Get wind degree and speed\n",
    "                {'deg': 59, 'speed': 2.660}\n",
    "\n",
    "             w.get_humidity()                                   # Get humidity percentage\n",
    "\n",
    "             w.get_pressure()                                   # Get atmospheric pressure\n",
    "                {'press': 1009, 'sea_level': 1038.381}\n",
    "\n",
    "             w.get_temperature()                                # Get temperature in Kelvin\n",
    "                {'temp': 293.4, 'temp_kf': None, 'temp_max': 297.5, 'temp_min': 290.9}\n",
    "             w.get_temperature(unit='celsius')                  # ... or in Celsius degs\n",
    "             w.get_temperature('fahrenheit')                    # ... or in Fahrenheit degs\n",
    "\n",
    "             w.get_status()                                     # Get weather short status\n",
    "                'clouds'\n",
    "             w.get_detailed_status()                           # Get detailed weather status\n",
    "                'Broken clouds'\n",
    "\n",
    "             w.get_weather_code()                               # Get OWM weather condition code\n",
    "                803\n",
    "\n",
    "             w.get_weather_icon_name()                          # Get weather-related icon name\n",
    "                '02d'\n",
    "\n",
    "             w.get_sunrise_time()                               # Sunrise time (GMT UNIXtime or ISO 8601)\n",
    "                1377862896L\n",
    "             w.get_sunset_time('iso')                           # Sunset time (GMT UNIXtime or ISO 8601)\n",
    "                '2013-08-30 20:07:57+00'\n",
    "    \"\"\"\n",
    "    \n",
    "    #TODO: assertIsInstance observation\n",
    "    weather = observation.get_weather()\n",
    "    return weather"
   ]
  },
  {
   "cell_type": "code",
   "execution_count": null,
   "metadata": {
    "collapsed": true
   },
   "outputs": [],
   "source": []
  }
 ],
 "metadata": {
  "kernelspec": {
   "display_name": "Python 2",
   "language": "python",
   "name": "python2"
  },
  "language_info": {
   "codemirror_mode": {
    "name": "ipython",
    "version": 2
   },
   "file_extension": ".py",
   "mimetype": "text/x-python",
   "name": "python",
   "nbconvert_exporter": "python",
   "pygments_lexer": "ipython2",
   "version": "2.7.12"
  }
 },
 "nbformat": 4,
 "nbformat_minor": 2
}
